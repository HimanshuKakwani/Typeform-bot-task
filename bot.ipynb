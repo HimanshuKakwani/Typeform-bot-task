{
  "nbformat": 4,
  "nbformat_minor": 0,
  "metadata": {
    "colab": {
      "provenance": []
    },
    "kernelspec": {
      "name": "python3",
      "display_name": "Python 3"
    },
    "language_info": {
      "name": "python"
    }
  },
  "cells": [
    {
      "cell_type": "code",
      "source": [
        "import re\n",
        "from nltk.corpus import wordnet\n",
        "import nltk"
      ],
      "metadata": {
        "id": "FxLNXONLm3VP"
      },
      "execution_count": 7,
      "outputs": []
    },
    {
      "cell_type": "code",
      "source": [
        "nltk.download('wordnet')"
      ],
      "metadata": {
        "colab": {
          "base_uri": "https://localhost:8080/"
        },
        "id": "LYc8r_pJ3s6x",
        "outputId": "1591e7fb-eb9c-41c5-a1b8-046d59b37cfc"
      },
      "execution_count": 8,
      "outputs": [
        {
          "output_type": "stream",
          "name": "stderr",
          "text": [
            "[nltk_data] Downloading package wordnet to /root/nltk_data...\n"
          ]
        },
        {
          "output_type": "execute_result",
          "data": {
            "text/plain": [
              "True"
            ]
          },
          "metadata": {},
          "execution_count": 8
        }
      ]
    },
    {
      "cell_type": "code",
      "source": [
        "# Building a list of Keywords\n",
        "list_words=['hello','name','email', 'phone', 'education']\n",
        "list_syn={}\n",
        "for word in list_words:\n",
        "    synonyms=[]\n",
        "    for syn in wordnet.synsets(word):\n",
        "        for lem in syn.lemmas():\n",
        "            # Remove any special characters from synonym strings\n",
        "            lem_name = re.sub('[^a-zA-Z0-9 \\n\\.]', ' ', lem.name())\n",
        "            synonyms.append(lem_name)\n",
        "    list_syn[word]=set(synonyms)\n",
        "print (list_syn)"
      ],
      "metadata": {
        "colab": {
          "base_uri": "https://localhost:8080/"
        },
        "id": "Jv2ZjnSB3Sif",
        "outputId": "a6f291e1-4f05-43f2-ab5d-e071190d5c57"
      },
      "execution_count": 12,
      "outputs": [
        {
          "output_type": "stream",
          "name": "stdout",
          "text": [
            "{'hello': {'how do you do', 'hi', 'hello', 'howdy', 'hullo'}, 'name': {'key out', 'nominate', 'call', 'gens', 'distinguish', 'constitute', 'discover', 'refer', 'list', 'make', 'name', 'diagnose', 'epithet', 'bring up', 'appoint', 'advert', 'describe', 'public figure', 'identify', 'cite', 'figure', 'mention', 'key'}, 'email': {'netmail', 'email', 'electronic mail', 'e mail'}, 'phone': {'sound', 'earphone', 'ring', 'telephone', 'call', 'telephone set', 'earpiece', 'call up', 'headphone', 'speech sound', 'phone'}, 'education': {'instruction', 'educational activity', 'Education', 'training', 'education', 'breeding', 'Education Department', 'didactics', 'Department of Education', 'teaching', 'pedagogy'}}\n"
          ]
        }
      ]
    },
    {
      "cell_type": "code",
      "source": [
        "# Building dictionary of Intents & Keywords\n",
        "keywords={}\n",
        "keywords_dict={}\n",
        "# Defining a new key in the keywords dictionary\n",
        "keywords['greet']=[]\n",
        "# Populating the values in the keywords dictionary with synonyms of keywords formatted with RegEx metacharacters\n",
        "for synonym in list(list_syn['hello']):\n",
        "    keywords['greet'].append('.*\\\\b'+synonym+'\\\\b.*')\n",
        "keywords['name']=[]\n",
        "for synonym in list(list_syn['name']):\n",
        "    keywords['name'].append('.*\\\\b'+synonym+'\\\\b.*')\n",
        "keywords['contact']=[]\n",
        "for synonym in list(list_syn['phone']):\n",
        "    keywords['contact'].append('.*\\\\b'+synonym+'\\\\b.*')\n",
        "keywords['mail']=[]\n",
        "for synonym in list(list_syn['email']):\n",
        "    keywords['mail'].append('.*\\\\b'+synonym+'\\\\b.*')\n",
        "keywords['education']=[]\n",
        "for synonym in list(list_syn['education']):\n",
        "    keywords['education'].append('.*\\\\b'+synonym+'\\\\b.*')\n",
        "\n",
        "for intent, keys in keywords.items():\n",
        "    # Joining the values in the keywords dictionary with the OR (|) operator updating them in keywords_dict dictionary\n",
        "    keywords_dict[intent]=re.compile('|'.join(keys))\n",
        "print (keywords_dict)"
      ],
      "metadata": {
        "colab": {
          "base_uri": "https://localhost:8080/"
        },
        "id": "hqZAfxSq3qEV",
        "outputId": "112a88d2-8541-4926-b152-0f29d977a8b1"
      },
      "execution_count": 16,
      "outputs": [
        {
          "output_type": "stream",
          "name": "stdout",
          "text": [
            "{'greet': re.compile('.*\\\\bhow do you do\\\\b.*|.*\\\\bhi\\\\b.*|.*\\\\bhello\\\\b.*|.*\\\\bhowdy\\\\b.*|.*\\\\bhullo\\\\b.*'), 'name': re.compile('.*\\\\bkey out\\\\b.*|.*\\\\bnominate\\\\b.*|.*\\\\bcall\\\\b.*|.*\\\\bgens\\\\b.*|.*\\\\bdistinguish\\\\b.*|.*\\\\bconstitute\\\\b.*|.*\\\\bdiscover\\\\b.*|.*\\\\brefer\\\\b.*|.*\\\\blist\\\\b.*|.*\\\\bmake\\\\b.*|.*\\\\bname\\\\b.*|.*\\\\bdiag), 'contact': re.compile('.*\\\\bsound\\\\b.*|.*\\\\bearphone\\\\b.*|.*\\\\bring\\\\b.*|.*\\\\btelephone\\\\b.*|.*\\\\bcall\\\\b.*|.*\\\\btelephone set\\\\b.*|.*\\\\bearpiece\\\\b.*|.*\\\\bcall up\\\\b.*|.*\\\\bheadphone\\\\b.*|.*\\\\bspeech sound\\\\b.*|.*\\\\bphone), 'mail': re.compile('.*\\\\bnetmail\\\\b.*|.*\\\\bemail\\\\b.*|.*\\\\belectronic mail\\\\b.*|.*\\\\be mail\\\\b.*'), 'education': re.compile('.*\\\\binstruction\\\\b.*|.*\\\\beducational activity\\\\b.*|.*\\\\bEducation\\\\b.*|.*\\\\btraining\\\\b.*|.*\\\\beducation\\\\b.*|.*\\\\bbreeding\\\\b.*|.*\\\\bEducation Department\\\\b.*|.*\\\\bdidactics\\\\b.*|.*\\\\bDepartment o)}\n"
          ]
        }
      ]
    },
    {
      "cell_type": "code",
      "source": [
        "responses={\n",
        "    'greet':'Hello! How can I help you? What is your name?',\n",
        "    'name': 'What is phone number?',\n",
        "    'contact': 'Please provide your email id.',\n",
        "    'mail':'Please provide me with your educational qualifications',\n",
        "    'education':'Thank you!',\n",
        "    'fallback':'I dont quite understand. Could you repeat that?',\n",
        "}"
      ],
      "metadata": {
        "id": "PMpvWIm746Sa"
      },
      "execution_count": 21,
      "outputs": []
    },
    {
      "cell_type": "code",
      "source": [
        "while (True):\n",
        "    # Takes the user input and converts all characters to lowercase\n",
        "    user_input = input().lower()\n",
        "    # Defining the Chatbot's exit condition\n",
        "    if user_input == 'quit':\n",
        "        print (\"Thank you for visiting.\")\n",
        "        break\n",
        "    matched_intent = None\n",
        "    for intent,pattern in keywords_dict.items():\n",
        "        # Using the regular expression search function to look for keywords in user input\n",
        "        if re.search(pattern, user_input):\n",
        "            # if a keyword matches, select the corresponding intent from the keywords_dict dictionary\n",
        "            matched_intent=intent\n",
        "    # The fallback intent is selected by default\n",
        "    key='fallback'\n",
        "    if matched_intent in responses:\n",
        "        # If a keyword matches, the fallback intent is replaced by the matched intent as the key for the responses dictionary\n",
        "        key = matched_intent\n",
        "    # The chatbot prints the response that matches the selected intent\n",
        "    print (responses[key])"
      ],
      "metadata": {
        "colab": {
          "base_uri": "https://localhost:8080/",
          "height": 661
        },
        "id": "1zL04k8m51Z-",
        "outputId": "9940ad85-4e44-424e-d3fa-04471db92fb3"
      },
      "execution_count": 22,
      "outputs": [
        {
          "output_type": "stream",
          "name": "stdout",
          "text": [
            "hi\n",
            "Hello! How can I help you? What is your name?\n",
            "my name is Himanshu\n",
            "What is phone number?\n",
            "my phone number is 999\n",
            "Please provide your email id.\n",
            "my email id is abc@email.com\n",
            "Please provide me with your educational qualifications\n",
            "btech\n",
            "I dont quite understand. Could you repeat that?\n",
            "my educational qualifications are btech\n",
            "I dont quite understand. Could you repeat that?\n",
            "my education is btech\n",
            "Thank you!\n"
          ]
        },
        {
          "output_type": "error",
          "ename": "KeyboardInterrupt",
          "evalue": "ignored",
          "traceback": [
            "\u001b[0;31m---------------------------------------------------------------------------\u001b[0m",
            "\u001b[0;31mKeyboardInterrupt\u001b[0m                         Traceback (most recent call last)",
            "\u001b[0;32m<ipython-input-22-816a027af553>\u001b[0m in \u001b[0;36m<cell line: 1>\u001b[0;34m()\u001b[0m\n\u001b[1;32m      1\u001b[0m \u001b[0;32mwhile\u001b[0m \u001b[0;34m(\u001b[0m\u001b[0;32mTrue\u001b[0m\u001b[0;34m)\u001b[0m\u001b[0;34m:\u001b[0m\u001b[0;34m\u001b[0m\u001b[0;34m\u001b[0m\u001b[0m\n\u001b[1;32m      2\u001b[0m     \u001b[0;31m# Takes the user input and converts all characters to lowercase\u001b[0m\u001b[0;34m\u001b[0m\u001b[0;34m\u001b[0m\u001b[0m\n\u001b[0;32m----> 3\u001b[0;31m     \u001b[0muser_input\u001b[0m \u001b[0;34m=\u001b[0m \u001b[0minput\u001b[0m\u001b[0;34m(\u001b[0m\u001b[0;34m)\u001b[0m\u001b[0;34m.\u001b[0m\u001b[0mlower\u001b[0m\u001b[0;34m(\u001b[0m\u001b[0;34m)\u001b[0m\u001b[0;34m\u001b[0m\u001b[0;34m\u001b[0m\u001b[0m\n\u001b[0m\u001b[1;32m      4\u001b[0m     \u001b[0;31m# Defining the Chatbot's exit condition\u001b[0m\u001b[0;34m\u001b[0m\u001b[0;34m\u001b[0m\u001b[0m\n\u001b[1;32m      5\u001b[0m     \u001b[0;32mif\u001b[0m \u001b[0muser_input\u001b[0m \u001b[0;34m==\u001b[0m \u001b[0;34m'quit'\u001b[0m\u001b[0;34m:\u001b[0m\u001b[0;34m\u001b[0m\u001b[0;34m\u001b[0m\u001b[0m\n",
            "\u001b[0;32m/usr/local/lib/python3.10/dist-packages/ipykernel/kernelbase.py\u001b[0m in \u001b[0;36mraw_input\u001b[0;34m(self, prompt)\u001b[0m\n\u001b[1;32m    849\u001b[0m                 \u001b[0;34m\"raw_input was called, but this frontend does not support input requests.\"\u001b[0m\u001b[0;34m\u001b[0m\u001b[0;34m\u001b[0m\u001b[0m\n\u001b[1;32m    850\u001b[0m             )\n\u001b[0;32m--> 851\u001b[0;31m         return self._input_request(str(prompt),\n\u001b[0m\u001b[1;32m    852\u001b[0m             \u001b[0mself\u001b[0m\u001b[0;34m.\u001b[0m\u001b[0m_parent_ident\u001b[0m\u001b[0;34m,\u001b[0m\u001b[0;34m\u001b[0m\u001b[0;34m\u001b[0m\u001b[0m\n\u001b[1;32m    853\u001b[0m             \u001b[0mself\u001b[0m\u001b[0;34m.\u001b[0m\u001b[0m_parent_header\u001b[0m\u001b[0;34m,\u001b[0m\u001b[0;34m\u001b[0m\u001b[0;34m\u001b[0m\u001b[0m\n",
            "\u001b[0;32m/usr/local/lib/python3.10/dist-packages/ipykernel/kernelbase.py\u001b[0m in \u001b[0;36m_input_request\u001b[0;34m(self, prompt, ident, parent, password)\u001b[0m\n\u001b[1;32m    893\u001b[0m             \u001b[0;32mexcept\u001b[0m \u001b[0mKeyboardInterrupt\u001b[0m\u001b[0;34m:\u001b[0m\u001b[0;34m\u001b[0m\u001b[0;34m\u001b[0m\u001b[0m\n\u001b[1;32m    894\u001b[0m                 \u001b[0;31m# re-raise KeyboardInterrupt, to truncate traceback\u001b[0m\u001b[0;34m\u001b[0m\u001b[0;34m\u001b[0m\u001b[0m\n\u001b[0;32m--> 895\u001b[0;31m                 \u001b[0;32mraise\u001b[0m \u001b[0mKeyboardInterrupt\u001b[0m\u001b[0;34m(\u001b[0m\u001b[0;34m\"Interrupted by user\"\u001b[0m\u001b[0;34m)\u001b[0m \u001b[0;32mfrom\u001b[0m \u001b[0;32mNone\u001b[0m\u001b[0;34m\u001b[0m\u001b[0;34m\u001b[0m\u001b[0m\n\u001b[0m\u001b[1;32m    896\u001b[0m             \u001b[0;32mexcept\u001b[0m \u001b[0mException\u001b[0m \u001b[0;32mas\u001b[0m \u001b[0me\u001b[0m\u001b[0;34m:\u001b[0m\u001b[0;34m\u001b[0m\u001b[0;34m\u001b[0m\u001b[0m\n\u001b[1;32m    897\u001b[0m                 \u001b[0mself\u001b[0m\u001b[0;34m.\u001b[0m\u001b[0mlog\u001b[0m\u001b[0;34m.\u001b[0m\u001b[0mwarning\u001b[0m\u001b[0;34m(\u001b[0m\u001b[0;34m\"Invalid Message:\"\u001b[0m\u001b[0;34m,\u001b[0m \u001b[0mexc_info\u001b[0m\u001b[0;34m=\u001b[0m\u001b[0;32mTrue\u001b[0m\u001b[0;34m)\u001b[0m\u001b[0;34m\u001b[0m\u001b[0;34m\u001b[0m\u001b[0m\n",
            "\u001b[0;31mKeyboardInterrupt\u001b[0m: Interrupted by user"
          ]
        }
      ]
    },
    {
      "cell_type": "code",
      "source": [],
      "metadata": {
        "id": "18_aWLKA57iR"
      },
      "execution_count": null,
      "outputs": []
    }
  ]
}